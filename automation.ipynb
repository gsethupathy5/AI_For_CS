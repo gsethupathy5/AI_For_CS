{
 "cells": [
  {
   "cell_type": "code",
   "execution_count": 1,
   "id": "92441b47",
   "metadata": {},
   "outputs": [],
   "source": [
    "import csv\n",
    "import subprocess\n",
    "import pandas as pd\n",
    "import time"
   ]
  },
  {
   "cell_type": "code",
   "execution_count": 8,
   "id": "83cd413a",
   "metadata": {},
   "outputs": [],
   "source": [
    "def execute_command(command):\n",
    "    \"\"\"Execute a given command in the shell and return its output.\"\"\"\n",
    "    count = 0\n",
    "    while True:\n",
    "        try:\n",
    "            result = subprocess.run(command, shell=True, check=True, capture_output=True, text=True, errors='ignore')\n",
    "            print(f\"Executed: {command}\")\n",
    "            return result.stdout.strip()\n",
    "        except subprocess.CalledProcessError as e:\n",
    "            print(f\"An error occurred: {e}\")\n",
    "            # return f\"Error: {str(e.stderr.strip())}\"\n",
    "            if count > 5:\n",
    "                return 'Panicked'\n",
    "            if 'PANIC' in str(e.stderr.strip()):\n",
    "                time.sleep(8)\n",
    "                count += 1\n",
    "                print('TRYING AGAIN')\n",
    "                continue\n",
    "            if 'PANIC' not in str(e.stderr.strip()):\n",
    "                return f\"Error: {str(e.stderr.strip())}\""
   ]
  },
  {
   "cell_type": "code",
   "execution_count": 9,
   "id": "4555d0de",
   "metadata": {},
   "outputs": [],
   "source": [
    "def get_python_file_path(id, slug):\n",
    "    id = int(id)\n",
    "    new_id = f\"{id:04d}\"\n",
    "    return \"python/\" + new_id + \".\" + slug + \"/solution.py\""
   ]
  },
  {
   "cell_type": "code",
   "execution_count": 10,
   "id": "b0e36f9b",
   "metadata": {},
   "outputs": [],
   "source": [
    "def write_answer_to_file(answer, file_path):\n",
    "    \"\"\"Replaces the content between '# @lc code=begin' and '# @lc code=end' markers in the specified file with the provided answer.\"\"\"\n",
    "    # Read the existing content of the file\n",
    "    with open(file_path, 'r') as file:\n",
    "        content = file.readlines()\n",
    "    \n",
    "    # Initialize variables to hold the updated content and the state of being inside the code block\n",
    "    updated_content = []\n",
    "    in_code_block = False  # Tracks whether the current line is between the code markers\n",
    "    \n",
    "    # Iterate through each line of the file\n",
    "    for line in content:\n",
    "        if '# @lc code=begin' in line:\n",
    "            in_code_block = True  # Set flag to True as we enter the code block\n",
    "            updated_content.append(line)  # Append the begin marker\n",
    "            updated_content.append(answer + '\\n')  # Append the new answer\n",
    "            continue\n",
    "        \n",
    "        if '# @lc code=end' in line and in_code_block:\n",
    "            updated_content.append(line)  # Append the end marker\n",
    "            in_code_block = False  # Reset the flag after appending the answer\n",
    "            continue\n",
    "        \n",
    "        # If not inside a code block, copy the line as is to the updated content\n",
    "        if not in_code_block:\n",
    "            updated_content.append(line)\n",
    "    \n",
    "    # Write the updated content back to the file\n",
    "    with open(file_path, 'w') as file:\n",
    "        file.writelines(updated_content)"
   ]
  },
  {
   "cell_type": "code",
   "execution_count": 30,
   "id": "6b61d0a7",
   "metadata": {},
   "outputs": [],
   "source": [
    "def process_csv_row(csv_file_path, count):\n",
    "    \"\"\"Process each row in the given CSV file.\"\"\"\n",
    "    # tests = []\n",
    "    submissions = []\n",
    "#     count = 0\n",
    "    with open(csv_file_path, newline='') as csvfile:\n",
    "        reader = csv.DictReader(csvfile)\n",
    "        for i, row in df.loc[count:].iterrows():\n",
    "            id_value = row['id']\n",
    "            answer = row['Python_Solutions']\n",
    "            slug = row['slug']\n",
    "            # if count ==8:\n",
    "            #     break\n",
    "            if id_value == '':\n",
    "                break\n",
    "\n",
    "            # Execute the leetgo pick command\n",
    "            pick_command = f\"leetgo pick {id_value}\"\n",
    "            execute_command(pick_command)\n",
    "\n",
    "            python_file_path = get_python_file_path(id_value, slug)\n",
    "            # Write the answer to the Python file\n",
    "            write_answer_to_file(answer, python_file_path)\n",
    "\n",
    "            # Execute the test and submit commands\n",
    "            # test = execute_command(\"leetgo test last -L\")\n",
    "            # tests.append(test)\n",
    "            time.sleep(5)\n",
    "            submission = execute_command(\"leetgo submit last\")\n",
    "            if submission == 'Panicked':\n",
    "                break\n",
    "#             submissions.append(submission)\n",
    "            \n",
    "            print(count)\n",
    "            df.loc[count, 'Submissions'] = submission\n",
    "            df.to_csv(\"Final.csv\", index=False)\n",
    "            count += 1\n",
    "            # print(tests)\n",
    "            # print(submissions)\n",
    "#     return submissions"
   ]
  },
  {
   "cell_type": "code",
   "execution_count": 31,
   "id": "df135370",
   "metadata": {},
   "outputs": [
    {
     "name": "stdout",
     "output_type": "stream",
     "text": [
      "Executed: leetgo pick 1\n",
      "An error occurred: Command 'leetgo submit last' returned non-zero exit status 1.\n",
      "0\n",
      "Executed: leetgo pick 3\n",
      "An error occurred: Command 'leetgo submit last' returned non-zero exit status 1.\n",
      "1\n",
      "Executed: leetgo pick 4\n",
      "An error occurred: Command 'leetgo submit last' returned non-zero exit status 1.\n",
      "2\n",
      "Executed: leetgo pick 5\n"
     ]
    },
    {
     "ename": "KeyboardInterrupt",
     "evalue": "",
     "output_type": "error",
     "traceback": [
      "\u001b[0;31m---------------------------------------------------------------------------\u001b[0m",
      "\u001b[0;31mKeyboardInterrupt\u001b[0m                         Traceback (most recent call last)",
      "\u001b[0;32m<ipython-input-31-d2723ec95d74>\u001b[0m in \u001b[0;36m<module>\u001b[0;34m\u001b[0m\n\u001b[1;32m      1\u001b[0m \u001b[0mcsv_file_path\u001b[0m \u001b[0;34m=\u001b[0m \u001b[0;34m'PythonSolutions_ExcludingSkipsRev.csv'\u001b[0m\u001b[0;34m\u001b[0m\u001b[0;34m\u001b[0m\u001b[0m\n\u001b[1;32m      2\u001b[0m \u001b[0mdf\u001b[0m \u001b[0;34m=\u001b[0m \u001b[0mpd\u001b[0m\u001b[0;34m.\u001b[0m\u001b[0mread_csv\u001b[0m\u001b[0;34m(\u001b[0m\u001b[0mcsv_file_path\u001b[0m\u001b[0;34m)\u001b[0m\u001b[0;34m\u001b[0m\u001b[0;34m\u001b[0m\u001b[0m\n\u001b[0;32m----> 3\u001b[0;31m \u001b[0mprocess_csv_row\u001b[0m\u001b[0;34m(\u001b[0m\u001b[0mcsv_file_path\u001b[0m\u001b[0;34m,\u001b[0m \u001b[0mcount\u001b[0m\u001b[0;34m)\u001b[0m\u001b[0;34m\u001b[0m\u001b[0;34m\u001b[0m\u001b[0m\n\u001b[0m",
      "\u001b[0;32m<ipython-input-30-b12141f5e64b>\u001b[0m in \u001b[0;36mprocess_csv_row\u001b[0;34m(csv_file_path, count)\u001b[0m\n\u001b[1;32m     26\u001b[0m             \u001b[0;31m# test = execute_command(\"leetgo test last -L\")\u001b[0m\u001b[0;34m\u001b[0m\u001b[0;34m\u001b[0m\u001b[0;34m\u001b[0m\u001b[0m\n\u001b[1;32m     27\u001b[0m             \u001b[0;31m# tests.append(test)\u001b[0m\u001b[0;34m\u001b[0m\u001b[0;34m\u001b[0m\u001b[0;34m\u001b[0m\u001b[0m\n\u001b[0;32m---> 28\u001b[0;31m             \u001b[0mtime\u001b[0m\u001b[0;34m.\u001b[0m\u001b[0msleep\u001b[0m\u001b[0;34m(\u001b[0m\u001b[0;36m5\u001b[0m\u001b[0;34m)\u001b[0m\u001b[0;34m\u001b[0m\u001b[0;34m\u001b[0m\u001b[0m\n\u001b[0m\u001b[1;32m     29\u001b[0m             \u001b[0msubmission\u001b[0m \u001b[0;34m=\u001b[0m \u001b[0mexecute_command\u001b[0m\u001b[0;34m(\u001b[0m\u001b[0;34m\"leetgo submit last\"\u001b[0m\u001b[0;34m)\u001b[0m\u001b[0;34m\u001b[0m\u001b[0;34m\u001b[0m\u001b[0m\n\u001b[1;32m     30\u001b[0m             \u001b[0;32mif\u001b[0m \u001b[0msubmission\u001b[0m \u001b[0;34m==\u001b[0m \u001b[0;34m'Panicked'\u001b[0m\u001b[0;34m:\u001b[0m\u001b[0;34m\u001b[0m\u001b[0;34m\u001b[0m\u001b[0m\n",
      "\u001b[0;31mKeyboardInterrupt\u001b[0m: "
     ]
    }
   ],
   "source": [
    "csv_file_path = 'PythonSolutions_ExcludingSkipsRev.csv'\n",
    "df = pd.read_csv(csv_file_path)\n",
    "process_csv_row(csv_file_path, count)"
   ]
  },
  {
   "cell_type": "code",
   "execution_count": 28,
   "id": "5ca007ce",
   "metadata": {},
   "outputs": [],
   "source": [
    "count=0"
   ]
  },
  {
   "cell_type": "code",
   "execution_count": 21,
   "id": "c9dffbff",
   "metadata": {},
   "outputs": [
    {
     "data": {
      "text/plain": [
       "494"
      ]
     },
     "execution_count": 21,
     "metadata": {},
     "output_type": "execute_result"
    }
   ],
   "source": [
    "count"
   ]
  },
  {
   "cell_type": "code",
   "execution_count": null,
   "id": "917eaabb",
   "metadata": {},
   "outputs": [],
   "source": []
  }
 ],
 "metadata": {
  "kernelspec": {
   "display_name": "Python 3",
   "language": "python",
   "name": "python3"
  },
  "language_info": {
   "codemirror_mode": {
    "name": "ipython",
    "version": 3
   },
   "file_extension": ".py",
   "mimetype": "text/x-python",
   "name": "python",
   "nbconvert_exporter": "python",
   "pygments_lexer": "ipython3",
   "version": "3.8.8"
  }
 },
 "nbformat": 4,
 "nbformat_minor": 5
}
