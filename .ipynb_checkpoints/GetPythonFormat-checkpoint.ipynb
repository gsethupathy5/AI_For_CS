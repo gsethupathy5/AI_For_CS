{
 "cells": [
  {
   "cell_type": "code",
   "execution_count": 1,
   "id": "99d7eed6",
   "metadata": {},
   "outputs": [],
   "source": [
    "import subprocess\n",
    "import pandas as pd\n",
    "import csv"
   ]
  },
  {
   "cell_type": "code",
   "execution_count": null,
   "id": "0675634a",
   "metadata": {},
   "outputs": [],
   "source": [
    "contents = []"
   ]
  },
  {
   "cell_type": "code",
   "execution_count": 9,
   "id": "5bd53712",
   "metadata": {},
   "outputs": [],
   "source": [
    "def get_python_file_path(id, slug):\n",
    "    id = int(id)\n",
    "    new_id = f\"{id:04d}\"\n",
    "    return \"python/\" + new_id + \".\" + slug + \"/solution.py\""
   ]
  },
  {
   "cell_type": "code",
   "execution_count": 12,
   "id": "c65acf65",
   "metadata": {},
   "outputs": [],
   "source": [
    "def add_declaration_csv(csv_path):\n",
    "    with open(csv_path, 'r') as csvfile:\n",
    "        reader = csv.DictReader(csvfile)\n",
    "        for row in reader:\n",
    "            id_value = row['id']\n",
    "            slug = row['slug']\n",
    "            if id_value == '':\n",
    "                break\n",
    "            print(id_value)\n",
    "            python_file_path = get_python_file_path(id_value, slug)\n",
    "            try:\n",
    "                with open(python_file_path, 'r') as file:\n",
    "                    content = file.read()\n",
    "                contents.append(content)\n",
    "            except FileNotFoundError:\n",
    "                print('File was not found')\n",
    "                contents.append('Python3 not supported')\n",
    "            "
   ]
  },
  {
   "cell_type": "code",
   "execution_count": null,
   "id": "2d92bb99",
   "metadata": {},
   "outputs": [],
   "source": []
  },
  {
   "cell_type": "code",
   "execution_count": null,
   "id": "7006f807",
   "metadata": {},
   "outputs": [],
   "source": []
  }
 ],
 "metadata": {
  "kernelspec": {
   "display_name": "Python 3",
   "language": "python",
   "name": "python3"
  },
  "language_info": {
   "codemirror_mode": {
    "name": "ipython",
    "version": 3
   },
   "file_extension": ".py",
   "mimetype": "text/x-python",
   "name": "python",
   "nbconvert_exporter": "python",
   "pygments_lexer": "ipython3",
   "version": "3.8.8"
  }
 },
 "nbformat": 4,
 "nbformat_minor": 5
}
